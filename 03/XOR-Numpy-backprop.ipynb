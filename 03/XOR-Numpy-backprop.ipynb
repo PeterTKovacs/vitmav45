{
 "cells": [
  {
   "cell_type": "markdown",
   "metadata": {},
   "source": [
    "# Legal note\n",
    "\n",
    "__As completing homework assignments is an inherent part of the course, I felt justified to re-use the code published in the course's GitHub repo in spite of its copyright.__\n",
    "\n",
    "__Since I am only using this notebook (something that is encouraged in the task description) for homework, I think it is fair use.__\n",
    "\n",
    "### Only did nontrivial modifications in the _MLP class_.\n",
    "\n",
    "Péter Tamás Kovács, Neptun ID: SYB0HS \n",
    "\n"
   ]
  },
  {
   "cell_type": "markdown",
   "metadata": {
    "id": "ljoVu0DiILmX"
   },
   "source": [
    "# Copyright\n",
    "\n",
    "<PRE>\n",
    "Jelen iPython notebook a Budapesti Műszaki és Gazdaságtudományi Egyetemen tartott \"Deep Learning a gyakorlatban Python és LUA alapon\" tantárgy segédanyagaként készült. \n",
    "A tantárgy honlapja: http://smartlab.tmit.bme.hu/oktatas-deep-learning\n",
    "Deep Learning kutatás: http://smartlab.tmit.bme.hu/deep-learning\n",
    "Jelen notebook Nicolas P. Rougier munkája alapján készült, melyet BSD licensz véd: http://www.labri.fr/perso/nrougier/downloads/mlp.py\n",
    "\n",
    "A notebook bármely részének újra felhasználása, publikálása csak a szerzők írásos beleegyezése esetén megegengedett.\n",
    "\n",
    "2020 (c) Gyires-Tóth Bálint (toth.b kukac tmit pont bme pont hu), Császár Márk\n",
    "</PRE>"
   ]
  },
  {
   "cell_type": "markdown",
   "metadata": {
    "id": "RqhES-R3ILmY"
   },
   "source": [
    "# XOR feladat neuron hálós megközelítése"
   ]
  },
  {
   "cell_type": "markdown",
   "metadata": {
    "id": "bt8bMaZ3ILmY"
   },
   "source": [
    "Először a historikisan is nagy jelentőségű XOR problémát fogjuk megoldani \"pure\" Python-ban. \n",
    "\n",
    "A XOR probléma a gépi tanulás szempontjából azért érdekes, mert míg az AND és az OR logikai függvények architektúrális szempontból megoldhatóak egyetlen neuron segítségével, addig a XOR-ra ez nem teljesül. Az AND és az OR esetében létezik a függvény által felveheto kimeneti értékek között egy olyan hipersík (szeparálósík), amely segítségével egyértelmű a szeparáció.\n",
    "\n",
    "A XOR probléma további tárgyalásához tekintsük az alábbi igazságtáblát:\n",
    "\n",
    "\n",
    "  A     | B   | A XOR B\n",
    "  :----:| :----:|:--------:\n",
    "  0     | 0   |    0\n",
    "  1     | 0   |    1\n",
    "  0     | 1   |    1\n",
    "  1     | 1   |    0"
   ]
  },
  {
   "cell_type": "code",
   "execution_count": 10,
   "metadata": {
    "colab": {
     "base_uri": "https://localhost:8080/",
     "height": 269
    },
    "id": "I6QkLKfiILmZ",
    "outputId": "f2e51ca8-e005-41d6-e7e0-7083f410df65"
   },
   "outputs": [
    {
     "data": {
      "image/png": "[encoded data removed]",
      "text/plain": [
       "<Figure size 432x288 with 1 Axes>"
      ]
     },
     "metadata": {
      "needs_background": "light"
     },
     "output_type": "display_data"
    }
   ],
   "source": [
    "# A notebook alapú megjelenítés aktiválása\n",
    "%matplotlib inline\n",
    "import matplotlib.pyplot as plt # Pylab grafikus megjelenítocsomag importálása\n",
    "\n",
    "# \"Igaz\" logikai értékek megadása\n",
    "true_x = [1, 0]\n",
    "true_y = [0, 1]\n",
    "\n",
    "# \"Hamis\" logikai értékek megadása\n",
    "false_x = [0, 1]\n",
    "false_y = [0, 1]\n",
    "\n",
    "# Jelöljük pirossal a hamis logikai értékeket, zölddel pedig az igazakat.\n",
    "plot1 = plt.plot(true_x, true_y,'gs')\n",
    "plot2 = plt.plot(false_x, false_y, 'rs')\n",
    "\n",
    "# A jobb ábrázálhatóság miatt, szélesebb tartományokat jelenítünk meg\n",
    "plt.xlim(-0.5, 1.5)\n",
    "plt.ylim(-0.5, 1.5)\n",
    "\n",
    "# Négyzetrács megjelenítése\n",
    "plt.grid(True)\n",
    "\n",
    "# Az x és y tengely megjelenítése\n",
    "plt.axhline(0, linestyle='dashed')\n",
    "plt.axvline(0, linestyle='dashed')\n",
    "\n",
    "# Az ábra kirajzolása\n",
    "plt.show()"
   ]
  },
  {
   "cell_type": "markdown",
   "metadata": {
    "id": "xPL6LAyJILme"
   },
   "source": [
    "Mint ahogy a fenti ábrán is látszódik, nem tudjuk egyetlen szeparáló síkkal (2 dimenzióban egyenessel) külön választani az igaz és a hamis értékeket.\n",
    "\n",
    "Mivel egyetlen síkkal nem tudjuk szétválasztani a kimeneteket ezért a neurális hálózat be- és kimeneti rétege közé szükségszerű, hogy további, un. rejtett réteg(ek)et illesszünk be. "
   ]
  },
  {
   "cell_type": "markdown",
   "metadata": {
    "id": "4Kdxyn6iILme"
   },
   "source": [
    "Mielőtt a konkrét programkóddal ismerkednénk meg, tekintsük át egy mesterséges neurális hálózat általános architektúráját, felépítését. Ahhoz, hogy neurális hálózatunk felügyelt tanítás során rendeltetésszerűen működjön, szükségünk van:\n",
    "\n",
    " - Tanító adatokra (bemenet és felügyelt esetben kimenet),\n",
    " - Magára a neurális hálózatra, amely magában foglal:\n",
    "   - bemeneti réteget, egy kimeneti réteget, illetve köztük elhelyezkedo rejtett réteg(ek)et,\n",
    "   - rétegenként tetszőleges számú neuronokat, \n",
    "   - a rétegeket összekötő, különböző súlyokkal rendelkező éleket,\n",
    "   - a neuronokon elvégzett lineáris (súlyozott összegzés), illetve nem lineáris függvényeket (pl. sigmoid, tanh, ReLU, stb.).\n",
    " - Tanítási fázist:\n",
    "   - a bemenő adatokat \"végigküldjük\" a hálózaton (forward propagation),\n",
    "   - a bemenő adatok alapján kiszámoljuk a hálózat által \"jósolt\" eredményt,\n",
    "   - a jósolt eredmény és a tanító adatokban szereplő elvárt eredmény közötti kapcsolat kiszámítása (költségfüggvény),\n",
    "   - a kapott hibaérték visszaterjesztése (backpropagation) a hálózaton, a láncszabály és a parciális deriválás módszerével (gradiensek kiszámítása)\n",
    "   - a rétegek közötti súlyok frissítését a gradiensek segítségével.\n",
    "   \n",
    "Első lépésként importáljuk a már jól ismert Numpy csomagot, amire np-ként fogunk hivatkozni, illetve a további szükséges csomagokat:"
   ]
  },
  {
   "cell_type": "code",
   "execution_count": 11,
   "metadata": {
    "id": "xYfDp0zoILmf"
   },
   "outputs": [],
   "source": [
    "import numpy as np\n",
    "from sklearn import preprocessing\n",
    "import copy"
   ]
  },
  {
   "cell_type": "markdown",
   "metadata": {
    "id": "rxXVFzeoILmh"
   },
   "source": [
    "Az aktivációs függvény definiálása. A \"forward\" lépésben a hálózatot alkotó neuronokkal két műveletet hajtunk végre: (1) Egy súlyozott lineáris összegzést, (2) illetve egy nemlineáris aktiválási függvényt. A lineáris függvény nem csinál mást, minthogy összegzi az adott neuronhoz beérkező értékeket a hozzá vezető súly értékével megszorozva. Ezután a kapott eredményen alkalmazzuk a nemlineáris aktivációs függvényt. Ez általában annyit csinál, hogy amennyiben az argomentuma (a korábbi szummázás)meghalad egy bizonyos küszöbértéket, akkor a neuron továbbítja a következő rétegre az adatokat. Itt a sigmoid-ot használjuk erre a célra, amit előbb definiálunk majd megnézzük, hogy hogyan néz ki:"
   ]
  },
  {
   "cell_type": "code",
   "execution_count": 12,
   "metadata": {
    "id": "W4dT2-NjILmi"
   },
   "outputs": [],
   "source": [
    "def activation(x):\n",
    "    return 1 / (1 + np.exp(-x))"
   ]
  },
  {
   "cell_type": "code",
   "execution_count": 13,
   "metadata": {
    "colab": {
     "base_uri": "https://localhost:8080/",
     "height": 287
    },
    "id": "BdfsRF05ILmk",
    "outputId": "a41108a1-795e-40f2-f503-77dc8902fae0"
   },
   "outputs": [
    {
     "data": {
      "text/plain": [
       "[<matplotlib.lines.Line2D at 0x7f1055d83610>]"
      ]
     },
     "execution_count": 13,
     "metadata": {},
     "output_type": "execute_result"
    },
    {
     "data": {
      "image/png": "[encoded data removed]",
      "text/plain": [
       "<Figure size 432x288 with 1 Axes>"
      ]
     },
     "metadata": {
      "needs_background": "light"
     },
     "output_type": "display_data"
    }
   ],
   "source": [
    "segedX=np.linspace(-6,6,200)\n",
    "# A jobb ábrázálhatóság miatt, szélesebb tartományokat jelenítünk meg\n",
    "plt.xlim(-6, 6)\n",
    "plt.ylim(-0.5, 1.5)\n",
    "# Az x és y tengely megjelenítése\n",
    "plt.axhline(0, linestyle='dashed')\n",
    "plt.axvline(0, linestyle='dashed')\n",
    "plt.plot(segedX,activation(segedX))"
   ]
  },
  {
   "cell_type": "markdown",
   "metadata": {
    "id": "l3Ne3qcJILmn"
   },
   "source": [
    "Következőnek definiáljuk az aktivációs függvény deriváltját. A tanítási fázis során, a hiba végigterjesztésekor (backpropagation) az aktivációs függvényt, azaz annak a deriváltját használjuk. Definiáljuk majd nézzük meg ezt is, hogy hogyan néz ki sigmoid esetén:"
   ]
  },
  {
   "cell_type": "code",
   "execution_count": 14,
   "metadata": {
    "colab": {
     "base_uri": "https://localhost:8080/",
     "height": 283
    },
    "id": "Saq0s-XNILmn",
    "outputId": "d4b32541-da5c-4c5a-85ea-0c267723c8ac"
   },
   "outputs": [
    {
     "data": {
      "text/plain": [
       "[<matplotlib.lines.Line2D at 0x7f1055d454f0>]"
      ]
     },
     "execution_count": 14,
     "metadata": {},
     "output_type": "execute_result"
    },
    {
     "data": {
      "image/png": "[encoded data removed]",
      "text/plain": [
       "<Figure size 432x288 with 1 Axes>"
      ]
     },
     "metadata": {
      "needs_background": "light"
     },
     "output_type": "display_data"
    }
   ],
   "source": [
    "def dactivation(x):\n",
    "    return np.exp(-x)/((1+np.exp(-x))**2)\n",
    "plt.plot(segedX,dactivation(segedX))"
   ]
  },
  {
   "cell_type": "markdown",
   "metadata": {
    "id": "4bnNWDupILmq"
   },
   "source": [
    "Most jön a java! Definiáljuk az MLP osztályt négy függvénnyel: inicializálás, súlyok resetelése, forward lépés, backward lépés."
   ]
  },
  {
   "cell_type": "markdown",
   "metadata": {},
   "source": [
    "### HF2 modifications in this cell and the ones below - testing"
   ]
  },
  {
   "cell_type": "code",
   "execution_count": 38,
   "metadata": {
    "id": "YZhB41otILmq"
   },
   "outputs": [],
   "source": [
    "class MLP:\n",
    "\n",
    "    def __init__(self, *args):\n",
    "       \n",
    "        np.random.seed(123)\n",
    "\n",
    "        self.shape = args\n",
    "        n = len(args)\n",
    "        \n",
    "        self.layers = []\n",
    "        \n",
    "        self.layers.append(np.ones(self.shape[0]+1))\n",
    "       \n",
    "        for i in range(1,n):\n",
    "            self.layers.append(np.ones(self.shape[i]))\n",
    "        \n",
    "        self.weights = []\n",
    "        for i in range(n-1):\n",
    "            self.weights.append(np.zeros((self.layers[i].size,\n",
    "                                         self.layers[i+1].size)))\n",
    "        \n",
    "        self.dw = [0,]*len(self.weights)\n",
    "       \n",
    "        self.reset()\n",
    "    \n",
    "    \n",
    "    def reset(self):\n",
    "        for i in range(len(self.weights)):\n",
    "             \n",
    "            Z = np.random.random((self.layers[i].size,self.layers[i+1].size))\n",
    "            \n",
    "            self.weights[i][...] = (2*Z-1)*1\n",
    "\n",
    "# HF2 - modifications start from here -----------------------------------------------------------------------\n",
    "\n",
    "# HF2: auxiliary function for weight updating - computes the addintional term for all possibilities\n",
    "    # optimizer_regularizer may take values from {None,'momentum','l1','l2'} \n",
    "    # hyperpm stands for the additional hyperparameter in optimizer_regularizer's formula from lecture slides\n",
    "    \n",
    "\n",
    "    def weight_updater_extension(self,layer_index,l_rate,optimizer_regularizer,hyperpm):\n",
    "        \n",
    "        if optimizer_regularizer=='momentum':\n",
    "            if type(self.dw[layer_index])=='list': # first iteration, we don't have momentum yet \n",
    "                return np.zeros(self.weights[layer_index].shape,float)\n",
    "            \n",
    "            else:\n",
    "# called before dw update!\n",
    "                return hyperpm*self.dw[layer_index]\n",
    "            \n",
    "        elif optimizer_regularizer=='l1':\n",
    "            return -1*l_rate*hyperpm*(2*(self.weights[layer_index]>0)-1) # handy way to implement sgn(.)\n",
    "        \n",
    "        elif optimizer_regularizer=='l2':\n",
    "            return -1*l_rate*hyperpm*self.weights[layer_index]\n",
    "        \n",
    "        else: # None case\n",
    "            return np.zeros(self.weights[layer_index].shape,float)\n",
    "\n",
    "# HF2: end of auxiliary function ----------------------------------------------------------------------------\n",
    "        \n",
    "    def propagate_forward(self, data):\n",
    "       \n",
    "        self.layers[0][0:-1] = data\n",
    "       \n",
    "        for i in range(1,len(self.shape)):\n",
    "            self.layers[i][...] = activation(np.dot(self.layers[i-1],self.weights[i-1]))\n",
    "        \n",
    "        return self.layers[-1]\n",
    "\n",
    "\n",
    "    \n",
    "    def propagate_backward(self, target, lrate=0.1, optimizer_regularizer=None,hyperpm=0):\n",
    "        deltas = []\n",
    "        error = -(target-self.layers[-1])\n",
    "        \n",
    "        delta = np.multiply(error,dactivation(np.dot(self.layers[-2],self.weights[-1])))\n",
    "        deltas.append(delta)\n",
    "        \n",
    "        for i in range(len(self.shape)-2,0,-1):\n",
    "       \n",
    "            delta=np.dot(deltas[0],self.weights[i].T)*dactivation(np.dot(self.layers[i-1],self.weights[i-1]))\n",
    "            deltas.insert(0,delta)            \n",
    "       \n",
    "        for i in range(len(self.weights)):\n",
    "            layer = np.atleast_2d(self.layers[i])\n",
    "            delta = np.atleast_2d(deltas[i])\n",
    "\n",
    "# HF2: insertion of the new weight update mechanisms --------------------------------------------------------\n",
    "            \n",
    "            dw = -lrate*np.dot(layer.T,delta)+self.weight_updater_extension(i,lrate,optimizer_regularizer,hyperpm)\n",
    "\n",
    "# HF2: end of insertion -------------------------------------------------------------------------------------\n",
    "\n",
    "            self.weights[i] += dw \n",
    "\n",
    "           \n",
    "            self.dw[i] = dw\n",
    "\n",
    "        return (error**2).sum()"
   ]
  },
  {
   "cell_type": "markdown",
   "metadata": {},
   "source": [
    "### Below I only modified the code to be able to test backprop with the new parameters"
   ]
  },
  {
   "cell_type": "code",
   "execution_count": 33,
   "metadata": {
    "id": "aGM-FjIyILmu"
   },
   "outputs": [],
   "source": [
    "#HF2: add new arguments to signature --------------------------------------------------------\n",
    "\n",
    "def learn(network, X, Y, valid_split, test_split, epochs=20, lrate=0.1, optimizer_regularizer=None,hyperpm=0):\n",
    "\n",
    "#--------------------------------------------------------------------------------------------\n",
    "        \n",
    "        X_train = X[0:int(nb_samples*(1-valid_split-test_split))]\n",
    "        Y_train = Y[0:int(nb_samples*(1-valid_split-test_split))]\n",
    "        X_valid = X[int(nb_samples*(1-valid_split-test_split)):int(nb_samples*(1-test_split))]\n",
    "        Y_valid = Y[int(nb_samples*(1-valid_split-test_split)):int(nb_samples*(1-test_split))]\n",
    "        X_test  = X[int(nb_samples*(1-test_split)):]\n",
    "        Y_test  = Y[int(nb_samples*(1-test_split)):]\n",
    "    \n",
    "        scaler = preprocessing.StandardScaler().fit(X_train)\n",
    "        X_train = scaler.transform(X_train)\n",
    "        X_valid = scaler.transform(X_valid)\n",
    "        X_test  = scaler.transform(X_test)\n",
    "    \n",
    "        \n",
    "        randperm = np.random.permutation(len(X_train))\n",
    "        X_train, Y_train = X_train[randperm], Y_train[randperm]\n",
    "        \n",
    "       \n",
    "        for i in range(epochs):\n",
    "           \n",
    "            train_err = 0\n",
    "            for k in range(X_train.shape[0]):\n",
    "                network.propagate_forward( X_train[k] )\n",
    "                \n",
    "# HF2: add new parameters to backprop call ---------------------------------------------------           \n",
    "\n",
    "                train_err += network.propagate_backward( Y_train[k], lrate ,optimizer_regularizer,hyperpm)\n",
    "#---------------------------------------------------------------------------------------------\n",
    "\n",
    "            train_err /= X_train.shape[0]\n",
    "\n",
    "            \n",
    "            valid_err = 0\n",
    "            o_valid = np.zeros(X_valid.shape[0])\n",
    "            for k in range(X_valid.shape[0]):\n",
    "                o_valid[k] = network.propagate_forward(X_valid[k])\n",
    "                valid_err += (o_valid[k]-Y_valid[k])**2\n",
    "            valid_err /= X_valid.shape[0]\n",
    "\n",
    "            print(\"%d epoch, train_err: %.4f, valid_err: %.4f\" % (i, train_err, valid_err))\n",
    "\n",
    "        \n",
    "        print(\"\\n--- TESZTELÉS ---\\n\")\n",
    "        test_err = 0\n",
    "        o_test = np.zeros(X_test.shape[0])\n",
    "        for k in range(X_test.shape[0]):\n",
    "            o_test[k] = network.propagate_forward(X_test[k])\n",
    "            test_err += (o_test[k]-Y_test[k])**2\n",
    "            print(k, X_test[k], '%.2f' % o_test[k], ' (elvart eredmeny: %.2f)' % Y_test[k])\n",
    "        test_err /= X_test.shape[0]\n",
    "\n",
    "        fig1=plt.figure()\n",
    "        plt.scatter(X_test[:,0], X_test[:,1], c=np.round(o_test[:]), cmap=plt.cm.cool)"
   ]
  },
  {
   "cell_type": "code",
   "execution_count": 39,
   "metadata": {
    "id": "bktmacXhILmx"
   },
   "outputs": [],
   "source": [
    "# Mesterséges neurális hálózat létrehozása, 2 bemenettel, 10 rejtett neuronnal és 1 kimenettel\n",
    "network = MLP(2,10,1)"
   ]
  },
  {
   "cell_type": "code",
   "execution_count": 40,
   "metadata": {
    "id": "p5DdHDQgILmz",
    "outputId": "570f9e4c-e76e-4ce6-fd80-f8c39e53e6a7"
   },
   "outputs": [
    {
     "data": {
      "text/plain": [
       "<matplotlib.collections.PathCollection at 0x7f105595fa90>"
      ]
     },
     "execution_count": 40,
     "metadata": {},
     "output_type": "execute_result"
    },
    {
     "data": {
      "image/png": "[encoded data removed]",
      "text/plain": [
       "<Figure size 432x288 with 1 Axes>"
      ]
     },
     "metadata": {
      "needs_background": "light"
     },
     "output_type": "display_data"
    }
   ],
   "source": [
    "# Tanító, validációs és teszt adatok megadása a rendszernek (zajjal terhelt XOR adatok)\n",
    "nb_samples=1000\n",
    "X = np.zeros((nb_samples,2))\n",
    "Y = np.zeros(nb_samples)\n",
    "for i in range(0,nb_samples,4):\n",
    "    noise = np.random.normal(0,1,8)\n",
    "    X[i], Y[i] = (-2+noise[0],-2+noise[1]), 0\n",
    "    X[i+1], Y[i+1] = (2+noise[2],-2+noise[3]), 1\n",
    "    X[i+2], Y[i+2] = (-2+noise[4],2+noise[5]), 1\n",
    "    X[i+3], Y[i+3] = (2+noise[6],2+noise[7]), 0\n",
    "\n",
    "# ...és az adatok kirajzolása\n",
    "fig1=plt.figure()\n",
    "plt.scatter(X[:,0],X[:,1],c=Y[:], cmap=plt.cm.cool)"
   ]
  },
  {
   "cell_type": "markdown",
   "metadata": {},
   "source": [
    "### Using the original test code, I tried all optimizer options I just coded"
   ]
  },
  {
   "cell_type": "code",
   "execution_count": 41,
   "metadata": {
    "id": "mbhI-rGjILm1",
    "outputId": "5183dcb9-abed-41cf-cfb1-6533ee195b49"
   },
   "outputs": [
    {
     "name": "stdout",
     "output_type": "stream",
     "text": [
      "0 epoch, train_err: 0.2461, valid_err: 0.2378\n",
      "1 epoch, train_err: 0.2297, valid_err: 0.2212\n",
      "2 epoch, train_err: 0.2070, valid_err: 0.1934\n",
      "3 epoch, train_err: 0.1742, valid_err: 0.1585\n",
      "4 epoch, train_err: 0.1387, valid_err: 0.1267\n",
      "5 epoch, train_err: 0.1098, valid_err: 0.1035\n",
      "6 epoch, train_err: 0.0897, valid_err: 0.0879\n",
      "7 epoch, train_err: 0.0764, valid_err: 0.0773\n",
      "8 epoch, train_err: 0.0673, valid_err: 0.0700\n",
      "9 epoch, train_err: 0.0610, valid_err: 0.0647\n",
      "10 epoch, train_err: 0.0564, valid_err: 0.0606\n",
      "11 epoch, train_err: 0.0529, valid_err: 0.0575\n",
      "12 epoch, train_err: 0.0502, valid_err: 0.0551\n",
      "13 epoch, train_err: 0.0480, valid_err: 0.0531\n",
      "14 epoch, train_err: 0.0462, valid_err: 0.0514\n",
      "15 epoch, train_err: 0.0447, valid_err: 0.0500\n",
      "16 epoch, train_err: 0.0434, valid_err: 0.0488\n",
      "17 epoch, train_err: 0.0422, valid_err: 0.0477\n",
      "18 epoch, train_err: 0.0413, valid_err: 0.0468\n",
      "19 epoch, train_err: 0.0404, valid_err: 0.0460\n",
      "\n",
      "--- TESZTELÉS ---\n",
      "\n",
      "0 [-0.49551261 -0.7444607 ] 0.18  (elvart eredmeny: 0.00)\n",
      "1 [ 0.89288499 -1.26981044] 0.96  (elvart eredmeny: 1.00)\n",
      "2 [-0.17687074  1.45002022] 0.73  (elvart eredmeny: 1.00)\n",
      "3 [0.23518118 1.54853674] 0.32  (elvart eredmeny: 0.00)\n",
      "4 [-0.91921004 -1.15158256] 0.04  (elvart eredmeny: 0.00)\n",
      "5 [ 0.45007887 -0.45520451] 0.83  (elvart eredmeny: 1.00)\n",
      "6 [-0.7232066   0.52937545] 0.92  (elvart eredmeny: 1.00)\n",
      "7 [0.52408431 0.74905089] 0.14  (elvart eredmeny: 0.00)\n",
      "8 [-1.13124799 -0.64346812] 0.08  (elvart eredmeny: 0.00)\n",
      "9 [ 1.05619852 -1.16867333] 0.97  (elvart eredmeny: 1.00)\n",
      "10 [-1.64331284  0.32178486] 0.76  (elvart eredmeny: 1.00)\n",
      "11 [1.27592446 0.47490425] 0.11  (elvart eredmeny: 0.00)\n",
      "12 [-0.85234509 -1.67766207] 0.06  (elvart eredmeny: 0.00)\n",
      "13 [ 1.06439281 -0.01519469] 0.54  (elvart eredmeny: 1.00)\n",
      "14 [-1.49598073  1.1721386 ] 0.97  (elvart eredmeny: 1.00)\n",
      "15 [1.00867052 1.33834844] 0.03  (elvart eredmeny: 0.00)\n",
      "16 [-0.96073952 -0.75856217] 0.06  (elvart eredmeny: 0.00)\n",
      "17 [ 0.96820285 -0.62312564] 0.94  (elvart eredmeny: 1.00)\n",
      "18 [-1.27731201  1.01086655] 0.97  (elvart eredmeny: 1.00)\n",
      "19 [1.24921224 1.45125364] 0.03  (elvart eredmeny: 0.00)\n",
      "20 [-0.68034828 -1.39272014] 0.07  (elvart eredmeny: 0.00)\n",
      "21 [ 0.19203454 -0.69725794] 0.75  (elvart eredmeny: 1.00)\n",
      "22 [-1.35447081  1.3051462 ] 0.98  (elvart eredmeny: 1.00)\n",
      "23 [0.75811891 1.38066171] 0.05  (elvart eredmeny: 0.00)\n",
      "24 [ 0.04865448 -0.90985725] 0.64  (elvart eredmeny: 0.00)\n",
      "25 [ 0.83494361 -0.42420374] 0.89  (elvart eredmeny: 1.00)\n",
      "26 [-0.42625033  1.69214366] 0.81  (elvart eredmeny: 1.00)\n",
      "27 [0.9747302  0.63829576] 0.07  (elvart eredmeny: 0.00)\n",
      "28 [-0.89859695 -1.16324684] 0.04  (elvart eredmeny: 0.00)\n",
      "29 [ 0.99406789 -1.27367092] 0.96  (elvart eredmeny: 1.00)\n",
      "30 [-0.4986541   1.23885647] 0.94  (elvart eredmeny: 1.00)\n",
      "31 [0.94899899 0.93553572] 0.04  (elvart eredmeny: 0.00)\n",
      "32 [-0.98989922 -0.28933404] 0.28  (elvart eredmeny: 0.00)\n",
      "33 [ 1.4178541  -0.81594234] 0.94  (elvart eredmeny: 1.00)\n",
      "34 [-1.28515493  0.39272723] 0.88  (elvart eredmeny: 1.00)\n",
      "35 [1.01544978 0.6359506 ] 0.07  (elvart eredmeny: 0.00)\n",
      "36 [-0.68920096 -1.05628831] 0.07  (elvart eredmeny: 0.00)\n",
      "37 [ 1.23285696 -0.78808995] 0.95  (elvart eredmeny: 1.00)\n",
      "38 [-0.45570044 -0.08445807] 0.54  (elvart eredmeny: 1.00)\n",
      "39 [0.78528024 1.92471042] 0.13  (elvart eredmeny: 0.00)\n",
      "40 [-2.02150252 -0.50132607] 0.23  (elvart eredmeny: 0.00)\n",
      "41 [ 1.07375928 -0.30132133] 0.83  (elvart eredmeny: 1.00)\n",
      "42 [-0.97967981  1.46134931] 0.97  (elvart eredmeny: 1.00)\n",
      "43 [1.43104178 1.01282183] 0.04  (elvart eredmeny: 0.00)\n",
      "44 [-1.42261241 -0.46956705] 0.17  (elvart eredmeny: 0.00)\n",
      "45 [ 0.45148347 -0.9437387 ] 0.89  (elvart eredmeny: 1.00)\n",
      "46 [-0.47857327  1.4169799 ] 0.91  (elvart eredmeny: 1.00)\n",
      "47 [0.73120781 1.20702752] 0.05  (elvart eredmeny: 0.00)\n",
      "48 [-1.59189506 -1.0949691 ] 0.03  (elvart eredmeny: 0.00)\n",
      "49 [ 1.54374629 -0.27527979] 0.67  (elvart eredmeny: 1.00)\n",
      "50 [-0.6027629   0.85996166] 0.95  (elvart eredmeny: 1.00)\n",
      "51 [1.26573007 0.91350389] 0.04  (elvart eredmeny: 0.00)\n",
      "52 [-0.82681195 -0.8418245 ] 0.07  (elvart eredmeny: 0.00)\n",
      "53 [ 0.53999516 -0.55402011] 0.88  (elvart eredmeny: 1.00)\n",
      "54 [-1.38054512  1.27422799] 0.98  (elvart eredmeny: 1.00)\n",
      "55 [0.45722329 0.59802441] 0.23  (elvart eredmeny: 0.00)\n",
      "56 [-2.17252156 -0.95218351] 0.12  (elvart eredmeny: 0.00)\n",
      "57 [ 0.97142945 -0.50835919] 0.92  (elvart eredmeny: 1.00)\n",
      "58 [-0.31580073  0.25126539] 0.72  (elvart eredmeny: 1.00)\n",
      "59 [1.32725243 0.7145116 ] 0.06  (elvart eredmeny: 0.00)\n",
      "60 [-0.93427312 -0.92924414] 0.05  (elvart eredmeny: 0.00)\n",
      "61 [ 0.68579039 -1.28345398] 0.93  (elvart eredmeny: 1.00)\n",
      "62 [-0.7771762   1.29016349] 0.97  (elvart eredmeny: 1.00)\n",
      "63 [0.32342975 0.91520552] 0.22  (elvart eredmeny: 0.00)\n",
      "64 [-1.18335154 -0.38699305] 0.20  (elvart eredmeny: 0.00)\n",
      "65 [ 1.10755805 -0.20065101] 0.74  (elvart eredmeny: 1.00)\n",
      "66 [-1.5946805   1.39085526] 0.97  (elvart eredmeny: 1.00)\n",
      "67 [0.95956766 0.59662601] 0.08  (elvart eredmeny: 0.00)\n",
      "68 [-0.68326656 -0.17477146] 0.43  (elvart eredmeny: 0.00)\n",
      "69 [ 1.60443149 -0.51055056] 0.81  (elvart eredmeny: 1.00)\n",
      "70 [-1.345509    1.06387085] 0.97  (elvart eredmeny: 1.00)\n",
      "71 [1.0399581  1.48467107] 0.04  (elvart eredmeny: 0.00)\n",
      "72 [-0.97578159 -0.8746935 ] 0.05  (elvart eredmeny: 0.00)\n",
      "73 [ 0.59456082 -0.58012958] 0.89  (elvart eredmeny: 1.00)\n",
      "74 [-0.99838184  1.00794573] 0.97  (elvart eredmeny: 1.00)\n",
      "75 [0.67683025 0.94531504] 0.07  (elvart eredmeny: 0.00)\n",
      "76 [-1.38522558 -0.80909313] 0.05  (elvart eredmeny: 0.00)\n",
      "77 [ 0.61733912 -0.56602641] 0.90  (elvart eredmeny: 1.00)\n",
      "78 [-0.07583425  1.30576314] 0.67  (elvart eredmeny: 1.00)\n",
      "79 [0.38597268 0.76179308] 0.21  (elvart eredmeny: 0.00)\n",
      "80 [-1.62192946 -0.87559713] 0.06  (elvart eredmeny: 0.00)\n",
      "81 [ 0.0933582  -1.42405863] 0.62  (elvart eredmeny: 1.00)\n",
      "82 [-0.41178207  1.31268606] 0.90  (elvart eredmeny: 1.00)\n",
      "83 [0.20688708 0.72200264] 0.39  (elvart eredmeny: 0.00)\n",
      "84 [-0.6947673  -0.70454052] 0.12  (elvart eredmeny: 0.00)\n",
      "85 [ 0.15912428 -0.76434734] 0.73  (elvart eredmeny: 1.00)\n",
      "86 [-1.17388859  1.46510224] 0.98  (elvart eredmeny: 1.00)\n",
      "87 [0.79729717 1.08618224] 0.05  (elvart eredmeny: 0.00)\n",
      "88 [-0.95084721 -0.58087122] 0.11  (elvart eredmeny: 0.00)\n",
      "89 [ 0.54332732 -0.58005466] 0.88  (elvart eredmeny: 1.00)\n",
      "90 [-0.36137803  1.75261358] 0.75  (elvart eredmeny: 1.00)\n",
      "91 [1.59511841 0.68196924] 0.08  (elvart eredmeny: 0.00)\n",
      "92 [-0.64393552 -0.51719602] 0.19  (elvart eredmeny: 0.00)\n",
      "93 [ 1.15069897 -0.54158161] 0.92  (elvart eredmeny: 1.00)\n",
      "94 [-0.71245188  0.67784608] 0.95  (elvart eredmeny: 1.00)\n",
      "95 [0.97944428 1.30625314] 0.03  (elvart eredmeny: 0.00)\n",
      "96 [-0.6956089  -1.37664792] 0.07  (elvart eredmeny: 0.00)\n",
      "97 [ 0.49433522 -1.06646624] 0.91  (elvart eredmeny: 1.00)\n",
      "98 [-0.99364269  0.99498732] 0.97  (elvart eredmeny: 1.00)\n",
      "99 [0.44984778 1.28285523] 0.13  (elvart eredmeny: 0.00)\n"
     ]
    },
    {
     "data": {
      "image/png": "[encoded data removed]",
      "text/plain": [
       "<Figure size 432x288 with 1 Axes>"
      ]
     },
     "metadata": {
      "needs_background": "light"
     },
     "output_type": "display_data"
    }
   ],
   "source": [
    "# Tanítás/Tesztelés indítása\n",
    "network.reset()\n",
    "learn(network, X, Y, 0.2, 0.1,epochs=20,optimizer_regularizer=None,hyperpm=0)"
   ]
  },
  {
   "cell_type": "code",
   "execution_count": 42,
   "metadata": {},
   "outputs": [
    {
     "name": "stdout",
     "output_type": "stream",
     "text": [
      "0 epoch, train_err: 0.2574, valid_err: 0.2486\n",
      "1 epoch, train_err: 0.2514, valid_err: 0.2451\n",
      "2 epoch, train_err: 0.2466, valid_err: 0.2392\n",
      "3 epoch, train_err: 0.2377, valid_err: 0.2277\n",
      "4 epoch, train_err: 0.2208, valid_err: 0.2071\n",
      "5 epoch, train_err: 0.1934, valid_err: 0.1770\n",
      "6 epoch, train_err: 0.1586, valid_err: 0.1439\n",
      "7 epoch, train_err: 0.1252, valid_err: 0.1160\n",
      "8 epoch, train_err: 0.0996, valid_err: 0.0963\n",
      "9 epoch, train_err: 0.0822, valid_err: 0.0831\n",
      "10 epoch, train_err: 0.0706, valid_err: 0.0742\n",
      "11 epoch, train_err: 0.0626, valid_err: 0.0680\n",
      "12 epoch, train_err: 0.0569, valid_err: 0.0634\n",
      "13 epoch, train_err: 0.0527, valid_err: 0.0599\n",
      "14 epoch, train_err: 0.0494, valid_err: 0.0572\n",
      "15 epoch, train_err: 0.0469, valid_err: 0.0550\n",
      "16 epoch, train_err: 0.0448, valid_err: 0.0532\n",
      "17 epoch, train_err: 0.0432, valid_err: 0.0517\n",
      "18 epoch, train_err: 0.0418, valid_err: 0.0505\n",
      "19 epoch, train_err: 0.0406, valid_err: 0.0494\n",
      "\n",
      "--- TESZTELÉS ---\n",
      "\n",
      "0 [-0.49551261 -0.7444607 ] 0.10  (elvart eredmeny: 0.00)\n",
      "1 [ 0.89288499 -1.26981044] 0.95  (elvart eredmeny: 1.00)\n",
      "2 [-0.17687074  1.45002022] 0.73  (elvart eredmeny: 1.00)\n",
      "3 [0.23518118 1.54853674] 0.36  (elvart eredmeny: 0.00)\n",
      "4 [-0.91921004 -1.15158256] 0.03  (elvart eredmeny: 0.00)\n",
      "5 [ 0.45007887 -0.45520451] 0.64  (elvart eredmeny: 1.00)\n",
      "6 [-0.7232066   0.52937545] 0.86  (elvart eredmeny: 1.00)\n",
      "7 [0.52408431 0.74905089] 0.10  (elvart eredmeny: 0.00)\n",
      "8 [-1.13124799 -0.64346812] 0.08  (elvart eredmeny: 0.00)\n",
      "9 [ 1.05619852 -1.16867333] 0.96  (elvart eredmeny: 1.00)\n",
      "10 [-1.64331284  0.32178486] 0.84  (elvart eredmeny: 1.00)\n",
      "11 [1.27592446 0.47490425] 0.09  (elvart eredmeny: 0.00)\n",
      "12 [-0.85234509 -1.67766207] 0.06  (elvart eredmeny: 0.00)\n",
      "13 [ 1.06439281 -0.01519469] 0.45  (elvart eredmeny: 1.00)\n",
      "14 [-1.49598073  1.1721386 ] 0.98  (elvart eredmeny: 1.00)\n",
      "15 [1.00867052 1.33834844] 0.04  (elvart eredmeny: 0.00)\n",
      "16 [-0.96073952 -0.75856217] 0.06  (elvart eredmeny: 0.00)\n",
      "17 [ 0.96820285 -0.62312564] 0.92  (elvart eredmeny: 1.00)\n",
      "18 [-1.27731201  1.01086655] 0.97  (elvart eredmeny: 1.00)\n",
      "19 [1.24921224 1.45125364] 0.03  (elvart eredmeny: 0.00)\n",
      "20 [-0.68034828 -1.39272014] 0.06  (elvart eredmeny: 0.00)\n",
      "21 [ 0.19203454 -0.69725794] 0.55  (elvart eredmeny: 1.00)\n",
      "22 [-1.35447081  1.3051462 ] 0.98  (elvart eredmeny: 1.00)\n",
      "23 [0.75811891 1.38066171] 0.07  (elvart eredmeny: 0.00)\n",
      "24 [ 0.04865448 -0.90985725] 0.47  (elvart eredmeny: 0.00)\n",
      "25 [ 0.83494361 -0.42420374] 0.82  (elvart eredmeny: 1.00)\n",
      "26 [-0.42625033  1.69214366] 0.86  (elvart eredmeny: 1.00)\n",
      "27 [0.9747302  0.63829576] 0.05  (elvart eredmeny: 0.00)\n",
      "28 [-0.89859695 -1.16324684] 0.03  (elvart eredmeny: 0.00)\n",
      "29 [ 0.99406789 -1.27367092] 0.95  (elvart eredmeny: 1.00)\n",
      "30 [-0.4986541   1.23885647] 0.91  (elvart eredmeny: 1.00)\n",
      "31 [0.94899899 0.93553572] 0.04  (elvart eredmeny: 0.00)\n",
      "32 [-0.98989922 -0.28933404] 0.24  (elvart eredmeny: 0.00)\n",
      "33 [ 1.4178541  -0.81594234] 0.94  (elvart eredmeny: 1.00)\n",
      "34 [-1.28515493  0.39272723] 0.88  (elvart eredmeny: 1.00)\n",
      "35 [1.01544978 0.6359506 ] 0.05  (elvart eredmeny: 0.00)\n",
      "36 [-0.68920096 -1.05628831] 0.05  (elvart eredmeny: 0.00)\n",
      "37 [ 1.23285696 -0.78808995] 0.94  (elvart eredmeny: 1.00)\n",
      "38 [-0.45570044 -0.08445807] 0.37  (elvart eredmeny: 1.00)\n",
      "39 [0.78528024 1.92471042] 0.16  (elvart eredmeny: 0.00)\n",
      "40 [-2.02150252 -0.50132607] 0.33  (elvart eredmeny: 0.00)\n",
      "41 [ 1.07375928 -0.30132133] 0.79  (elvart eredmeny: 1.00)\n",
      "42 [-0.97967981  1.46134931] 0.97  (elvart eredmeny: 1.00)\n",
      "43 [1.43104178 1.01282183] 0.03  (elvart eredmeny: 0.00)\n",
      "44 [-1.42261241 -0.46956705] 0.19  (elvart eredmeny: 0.00)\n",
      "45 [ 0.45148347 -0.9437387 ] 0.86  (elvart eredmeny: 1.00)\n",
      "46 [-0.47857327  1.4169799 ] 0.90  (elvart eredmeny: 1.00)\n",
      "47 [0.73120781 1.20702752] 0.06  (elvart eredmeny: 0.00)\n",
      "48 [-1.59189506 -1.0949691 ] 0.04  (elvart eredmeny: 0.00)\n",
      "49 [ 1.54374629 -0.27527979] 0.76  (elvart eredmeny: 1.00)\n",
      "50 [-0.6027629   0.85996166] 0.91  (elvart eredmeny: 1.00)\n",
      "51 [1.26573007 0.91350389] 0.03  (elvart eredmeny: 0.00)\n",
      "52 [-0.82681195 -0.8418245 ] 0.05  (elvart eredmeny: 0.00)\n",
      "53 [ 0.53999516 -0.55402011] 0.77  (elvart eredmeny: 1.00)\n",
      "54 [-1.38054512  1.27422799] 0.98  (elvart eredmeny: 1.00)\n",
      "55 [0.45722329 0.59802441] 0.14  (elvart eredmeny: 0.00)\n",
      "56 [-2.17252156 -0.95218351] 0.15  (elvart eredmeny: 0.00)\n",
      "57 [ 0.97142945 -0.50835919] 0.89  (elvart eredmeny: 1.00)\n",
      "58 [-0.31580073  0.25126539] 0.55  (elvart eredmeny: 1.00)\n",
      "59 [1.32725243 0.7145116 ] 0.04  (elvart eredmeny: 0.00)\n",
      "60 [-0.93427312 -0.92924414] 0.04  (elvart eredmeny: 0.00)\n",
      "61 [ 0.68579039 -1.28345398] 0.93  (elvart eredmeny: 1.00)\n",
      "62 [-0.7771762   1.29016349] 0.96  (elvart eredmeny: 1.00)\n",
      "63 [0.32342975 0.91520552] 0.19  (elvart eredmeny: 0.00)\n",
      "64 [-1.18335154 -0.38699305] 0.20  (elvart eredmeny: 0.00)\n",
      "65 [ 1.10755805 -0.20065101] 0.70  (elvart eredmeny: 1.00)\n",
      "66 [-1.5946805   1.39085526] 0.98  (elvart eredmeny: 1.00)\n",
      "67 [0.95956766 0.59662601] 0.06  (elvart eredmeny: 0.00)\n",
      "68 [-0.68326656 -0.17477146] 0.31  (elvart eredmeny: 0.00)\n",
      "69 [ 1.60443149 -0.51055056] 0.85  (elvart eredmeny: 1.00)\n",
      "70 [-1.345509    1.06387085] 0.98  (elvart eredmeny: 1.00)\n",
      "71 [1.0399581  1.48467107] 0.04  (elvart eredmeny: 0.00)\n",
      "72 [-0.97578159 -0.8746935 ] 0.05  (elvart eredmeny: 0.00)\n",
      "73 [ 0.59456082 -0.58012958] 0.81  (elvart eredmeny: 1.00)\n",
      "74 [-0.99838184  1.00794573] 0.97  (elvart eredmeny: 1.00)\n",
      "75 [0.67683025 0.94531504] 0.06  (elvart eredmeny: 0.00)\n",
      "76 [-1.38522558 -0.80909313] 0.06  (elvart eredmeny: 0.00)\n",
      "77 [ 0.61733912 -0.56602641] 0.81  (elvart eredmeny: 1.00)\n",
      "78 [-0.07583425  1.30576314] 0.63  (elvart eredmeny: 1.00)\n",
      "79 [0.38597268 0.76179308] 0.16  (elvart eredmeny: 0.00)\n",
      "80 [-1.62192946 -0.87559713] 0.07  (elvart eredmeny: 0.00)\n",
      "81 [ 0.0933582  -1.42405863] 0.66  (elvart eredmeny: 1.00)\n",
      "82 [-0.41178207  1.31268606] 0.88  (elvart eredmeny: 1.00)\n",
      "83 [0.20688708 0.72200264] 0.28  (elvart eredmeny: 0.00)\n",
      "84 [-0.6947673  -0.70454052] 0.08  (elvart eredmeny: 0.00)\n",
      "85 [ 0.15912428 -0.76434734] 0.54  (elvart eredmeny: 1.00)\n",
      "86 [-1.17388859  1.46510224] 0.98  (elvart eredmeny: 1.00)\n",
      "87 [0.79729717 1.08618224] 0.05  (elvart eredmeny: 0.00)\n",
      "88 [-0.95084721 -0.58087122] 0.10  (elvart eredmeny: 0.00)\n",
      "89 [ 0.54332732 -0.58005466] 0.78  (elvart eredmeny: 1.00)\n",
      "90 [-0.36137803  1.75261358] 0.82  (elvart eredmeny: 1.00)\n",
      "91 [1.59511841 0.68196924] 0.08  (elvart eredmeny: 0.00)\n",
      "92 [-0.64393552 -0.51719602] 0.13  (elvart eredmeny: 0.00)\n",
      "93 [ 1.15069897 -0.54158161] 0.91  (elvart eredmeny: 1.00)\n",
      "94 [-0.71245188  0.67784608] 0.91  (elvart eredmeny: 1.00)\n",
      "95 [0.97944428 1.30625314] 0.04  (elvart eredmeny: 0.00)\n",
      "96 [-0.6956089  -1.37664792] 0.06  (elvart eredmeny: 0.00)\n",
      "97 [ 0.49433522 -1.06646624] 0.89  (elvart eredmeny: 1.00)\n",
      "98 [-0.99364269  0.99498732] 0.97  (elvart eredmeny: 1.00)\n",
      "99 [0.44984778 1.28285523] 0.15  (elvart eredmeny: 0.00)\n"
     ]
    },
    {
     "data": {
      "image/png": "[encoded data removed]",
      "text/plain": [
       "<Figure size 432x288 with 1 Axes>"
      ]
     },
     "metadata": {
      "needs_background": "light"
     },
     "output_type": "display_data"
    }
   ],
   "source": [
    "network.reset()\n",
    "learn(network, X, Y, 0.2, 0.1,epochs=20,optimizer_regularizer='momentum',hyperpm=0.05)"
   ]
  },
  {
   "cell_type": "code",
   "execution_count": 46,
   "metadata": {},
   "outputs": [
    {
     "name": "stdout",
     "output_type": "stream",
     "text": [
      "0 epoch, train_err: 0.2591, valid_err: 0.2497\n",
      "1 epoch, train_err: 0.2515, valid_err: 0.2475\n",
      "2 epoch, train_err: 0.2498, valid_err: 0.2459\n",
      "3 epoch, train_err: 0.2479, valid_err: 0.2436\n",
      "4 epoch, train_err: 0.2450, valid_err: 0.2399\n",
      "5 epoch, train_err: 0.2400, valid_err: 0.2337\n",
      "6 epoch, train_err: 0.2319, valid_err: 0.2244\n",
      "7 epoch, train_err: 0.2206, valid_err: 0.2120\n",
      "8 epoch, train_err: 0.2062, valid_err: 0.1969\n",
      "9 epoch, train_err: 0.1888, valid_err: 0.1788\n",
      "10 epoch, train_err: 0.1685, valid_err: 0.1584\n",
      "11 epoch, train_err: 0.1471, valid_err: 0.1385\n",
      "12 epoch, train_err: 0.1276, valid_err: 0.1218\n",
      "13 epoch, train_err: 0.1119, valid_err: 0.1090\n",
      "14 epoch, train_err: 0.0999, valid_err: 0.0995\n",
      "15 epoch, train_err: 0.0909, valid_err: 0.0923\n",
      "16 epoch, train_err: 0.0840, valid_err: 0.0869\n",
      "17 epoch, train_err: 0.0788, valid_err: 0.0827\n",
      "18 epoch, train_err: 0.0746, valid_err: 0.0793\n",
      "19 epoch, train_err: 0.0713, valid_err: 0.0766\n",
      "\n",
      "--- TESZTELÉS ---\n",
      "\n",
      "0 [-0.49551261 -0.7444607 ] 0.17  (elvart eredmeny: 0.00)\n",
      "1 [ 0.89288499 -1.26981044] 0.88  (elvart eredmeny: 1.00)\n",
      "2 [-0.17687074  1.45002022] 0.69  (elvart eredmeny: 1.00)\n",
      "3 [0.23518118 1.54853674] 0.50  (elvart eredmeny: 0.00)\n",
      "4 [-0.91921004 -1.15158256] 0.14  (elvart eredmeny: 0.00)\n",
      "5 [ 0.45007887 -0.45520451] 0.48  (elvart eredmeny: 1.00)\n",
      "6 [-0.7232066   0.52937545] 0.68  (elvart eredmeny: 1.00)\n",
      "7 [0.52408431 0.74905089] 0.11  (elvart eredmeny: 0.00)\n",
      "8 [-1.13124799 -0.64346812] 0.16  (elvart eredmeny: 0.00)\n",
      "9 [ 1.05619852 -1.16867333] 0.88  (elvart eredmeny: 1.00)\n",
      "10 [-1.64331284  0.32178486] 0.88  (elvart eredmeny: 1.00)\n",
      "11 [1.27592446 0.47490425] 0.23  (elvart eredmeny: 0.00)\n",
      "12 [-0.85234509 -1.67766207] 0.22  (elvart eredmeny: 0.00)\n",
      "13 [ 1.06439281 -0.01519469] 0.48  (elvart eredmeny: 1.00)\n",
      "14 [-1.49598073  1.1721386 ] 0.91  (elvart eredmeny: 1.00)\n",
      "15 [1.00867052 1.33834844] 0.08  (elvart eredmeny: 0.00)\n",
      "16 [-0.96073952 -0.75856217] 0.14  (elvart eredmeny: 0.00)\n",
      "17 [ 0.96820285 -0.62312564] 0.78  (elvart eredmeny: 1.00)\n",
      "18 [-1.27731201  1.01086655] 0.90  (elvart eredmeny: 1.00)\n",
      "19 [1.24921224 1.45125364] 0.07  (elvart eredmeny: 0.00)\n",
      "20 [-0.68034828 -1.39272014] 0.22  (elvart eredmeny: 0.00)\n",
      "21 [ 0.19203454 -0.69725794] 0.44  (elvart eredmeny: 1.00)\n",
      "22 [-1.35447081  1.3051462 ] 0.90  (elvart eredmeny: 1.00)\n",
      "23 [0.75811891 1.38066171] 0.13  (elvart eredmeny: 0.00)\n",
      "24 [ 0.04865448 -0.90985725] 0.44  (elvart eredmeny: 0.00)\n",
      "25 [ 0.83494361 -0.42420374] 0.66  (elvart eredmeny: 1.00)\n",
      "26 [-0.42625033  1.69214366] 0.75  (elvart eredmeny: 1.00)\n",
      "27 [0.9747302  0.63829576] 0.12  (elvart eredmeny: 0.00)\n",
      "28 [-0.89859695 -1.16324684] 0.14  (elvart eredmeny: 0.00)\n",
      "29 [ 0.99406789 -1.27367092] 0.88  (elvart eredmeny: 1.00)\n",
      "30 [-0.4986541   1.23885647] 0.80  (elvart eredmeny: 1.00)\n",
      "31 [0.94899899 0.93553572] 0.07  (elvart eredmeny: 0.00)\n",
      "32 [-0.98989922 -0.28933404] 0.23  (elvart eredmeny: 0.00)\n",
      "33 [ 1.4178541  -0.81594234] 0.85  (elvart eredmeny: 1.00)\n",
      "34 [-1.28515493  0.39272723] 0.84  (elvart eredmeny: 1.00)\n",
      "35 [1.01544978 0.6359506 ] 0.12  (elvart eredmeny: 0.00)\n",
      "36 [-0.68920096 -1.05628831] 0.17  (elvart eredmeny: 0.00)\n",
      "37 [ 1.23285696 -0.78808995] 0.84  (elvart eredmeny: 1.00)\n",
      "38 [-0.45570044 -0.08445807] 0.19  (elvart eredmeny: 1.00)\n",
      "39 [0.78528024 1.92471042] 0.40  (elvart eredmeny: 0.00)\n",
      "40 [-2.02150252 -0.50132607] 0.68  (elvart eredmeny: 0.00)\n",
      "41 [ 1.07375928 -0.30132133] 0.67  (elvart eredmeny: 1.00)\n",
      "42 [-0.97967981  1.46134931] 0.87  (elvart eredmeny: 1.00)\n",
      "43 [1.43104178 1.01282183] 0.11  (elvart eredmeny: 0.00)\n",
      "44 [-1.42261241 -0.46956705] 0.31  (elvart eredmeny: 0.00)\n",
      "45 [ 0.45148347 -0.9437387 ] 0.71  (elvart eredmeny: 1.00)\n",
      "46 [-0.47857327  1.4169799 ] 0.79  (elvart eredmeny: 1.00)\n",
      "47 [0.73120781 1.20702752] 0.10  (elvart eredmeny: 0.00)\n",
      "48 [-1.59189506 -1.0949691 ] 0.13  (elvart eredmeny: 0.00)\n",
      "49 [ 1.54374629 -0.27527979] 0.69  (elvart eredmeny: 1.00)\n",
      "50 [-0.6027629   0.85996166] 0.78  (elvart eredmeny: 1.00)\n",
      "51 [1.26573007 0.91350389] 0.10  (elvart eredmeny: 0.00)\n",
      "52 [-0.82681195 -0.8418245 ] 0.14  (elvart eredmeny: 0.00)\n",
      "53 [ 0.53999516 -0.55402011] 0.59  (elvart eredmeny: 1.00)\n",
      "54 [-1.38054512  1.27422799] 0.90  (elvart eredmeny: 1.00)\n",
      "55 [0.45722329 0.59802441] 0.12  (elvart eredmeny: 0.00)\n",
      "56 [-2.17252156 -0.95218351] 0.38  (elvart eredmeny: 0.00)\n",
      "57 [ 0.97142945 -0.50835919] 0.74  (elvart eredmeny: 1.00)\n",
      "58 [-0.31580073  0.25126539] 0.25  (elvart eredmeny: 1.00)\n",
      "59 [1.32725243 0.7145116 ] 0.15  (elvart eredmeny: 0.00)\n",
      "60 [-0.93427312 -0.92924414] 0.13  (elvart eredmeny: 0.00)\n",
      "61 [ 0.68579039 -1.28345398] 0.85  (elvart eredmeny: 1.00)\n",
      "62 [-0.7771762   1.29016349] 0.86  (elvart eredmeny: 1.00)\n",
      "63 [0.32342975 0.91520552] 0.17  (elvart eredmeny: 0.00)\n",
      "64 [-1.18335154 -0.38699305] 0.25  (elvart eredmeny: 0.00)\n",
      "65 [ 1.10755805 -0.20065101] 0.62  (elvart eredmeny: 1.00)\n",
      "66 [-1.5946805   1.39085526] 0.90  (elvart eredmeny: 1.00)\n",
      "67 [0.95956766 0.59662601] 0.12  (elvart eredmeny: 0.00)\n",
      "68 [-0.68326656 -0.17477146] 0.20  (elvart eredmeny: 0.00)\n",
      "69 [ 1.60443149 -0.51055056] 0.77  (elvart eredmeny: 1.00)\n",
      "70 [-1.345509    1.06387085] 0.91  (elvart eredmeny: 1.00)\n",
      "71 [1.0399581  1.48467107] 0.10  (elvart eredmeny: 0.00)\n",
      "72 [-0.97578159 -0.8746935 ] 0.13  (elvart eredmeny: 0.00)\n",
      "73 [ 0.59456082 -0.58012958] 0.63  (elvart eredmeny: 1.00)\n",
      "74 [-0.99838184  1.00794573] 0.89  (elvart eredmeny: 1.00)\n",
      "75 [0.67683025 0.94531504] 0.09  (elvart eredmeny: 0.00)\n",
      "76 [-1.38522558 -0.80909313] 0.15  (elvart eredmeny: 0.00)\n",
      "77 [ 0.61733912 -0.56602641] 0.63  (elvart eredmeny: 1.00)\n",
      "78 [-0.07583425  1.30576314] 0.62  (elvart eredmeny: 1.00)\n",
      "79 [0.38597268 0.76179308] 0.13  (elvart eredmeny: 0.00)\n",
      "80 [-1.62192946 -0.87559713] 0.18  (elvart eredmeny: 0.00)\n",
      "81 [ 0.0933582  -1.42405863] 0.69  (elvart eredmeny: 1.00)\n",
      "82 [-0.41178207  1.31268606] 0.78  (elvart eredmeny: 1.00)\n",
      "83 [0.20688708 0.72200264] 0.18  (elvart eredmeny: 0.00)\n",
      "84 [-0.6947673  -0.70454052] 0.15  (elvart eredmeny: 0.00)\n",
      "85 [ 0.15912428 -0.76434734] 0.45  (elvart eredmeny: 1.00)\n",
      "86 [-1.17388859  1.46510224] 0.88  (elvart eredmeny: 1.00)\n",
      "87 [0.79729717 1.08618224] 0.08  (elvart eredmeny: 0.00)\n",
      "88 [-0.95084721 -0.58087122] 0.15  (elvart eredmeny: 0.00)\n",
      "89 [ 0.54332732 -0.58005466] 0.60  (elvart eredmeny: 1.00)\n",
      "90 [-0.36137803  1.75261358] 0.72  (elvart eredmeny: 1.00)\n",
      "91 [1.59511841 0.68196924] 0.23  (elvart eredmeny: 0.00)\n",
      "92 [-0.64393552 -0.51719602] 0.15  (elvart eredmeny: 0.00)\n",
      "93 [ 1.15069897 -0.54158161] 0.78  (elvart eredmeny: 1.00)\n",
      "94 [-0.71245188  0.67784608] 0.76  (elvart eredmeny: 1.00)\n",
      "95 [0.97944428 1.30625314] 0.08  (elvart eredmeny: 0.00)\n",
      "96 [-0.6956089  -1.37664792] 0.21  (elvart eredmeny: 0.00)\n",
      "97 [ 0.49433522 -1.06646624] 0.76  (elvart eredmeny: 1.00)\n",
      "98 [-0.99364269  0.99498732] 0.88  (elvart eredmeny: 1.00)\n",
      "99 [0.44984778 1.28285523] 0.22  (elvart eredmeny: 0.00)\n"
     ]
    },
    {
     "data": {
      "image/png": "[encoded data removed]",
      "text/plain": [
       "<Figure size 432x288 with 1 Axes>"
      ]
     },
     "metadata": {
      "needs_background": "light"
     },
     "output_type": "display_data"
    }
   ],
   "source": [
    "network.reset()\n",
    "learn(network, X, Y, 0.2, 0.1,epochs=20,optimizer_regularizer='l1',hyperpm=0.0005)"
   ]
  },
  {
   "cell_type": "code",
   "execution_count": 48,
   "metadata": {},
   "outputs": [
    {
     "name": "stdout",
     "output_type": "stream",
     "text": [
      "0 epoch, train_err: 0.2567, valid_err: 0.2510\n",
      "1 epoch, train_err: 0.2479, valid_err: 0.2461\n",
      "2 epoch, train_err: 0.2434, valid_err: 0.2407\n",
      "3 epoch, train_err: 0.2365, valid_err: 0.2321\n",
      "4 epoch, train_err: 0.2251, valid_err: 0.2181\n",
      "5 epoch, train_err: 0.2072, valid_err: 0.1982\n",
      "6 epoch, train_err: 0.1840, valid_err: 0.1751\n",
      "7 epoch, train_err: 0.1598, valid_err: 0.1536\n",
      "8 epoch, train_err: 0.1390, valid_err: 0.1366\n",
      "9 epoch, train_err: 0.1232, valid_err: 0.1241\n",
      "10 epoch, train_err: 0.1119, valid_err: 0.1152\n",
      "11 epoch, train_err: 0.1038, valid_err: 0.1087\n",
      "12 epoch, train_err: 0.0979, valid_err: 0.1040\n",
      "13 epoch, train_err: 0.0935, valid_err: 0.1003\n",
      "14 epoch, train_err: 0.0901, valid_err: 0.0973\n",
      "15 epoch, train_err: 0.0874, valid_err: 0.0949\n",
      "16 epoch, train_err: 0.0851, valid_err: 0.0929\n",
      "17 epoch, train_err: 0.0832, valid_err: 0.0910\n",
      "18 epoch, train_err: 0.0814, valid_err: 0.0894\n",
      "19 epoch, train_err: 0.0799, valid_err: 0.0879\n",
      "\n",
      "--- TESZTELÉS ---\n",
      "\n",
      "0 [-0.49551261 -0.7444607 ] 0.18  (elvart eredmeny: 0.00)\n",
      "1 [ 0.89288499 -1.26981044] 0.89  (elvart eredmeny: 1.00)\n",
      "2 [-0.17687074  1.45002022] 0.75  (elvart eredmeny: 1.00)\n",
      "3 [0.23518118 1.54853674] 0.60  (elvart eredmeny: 0.00)\n",
      "4 [-0.91921004 -1.15158256] 0.16  (elvart eredmeny: 0.00)\n",
      "5 [ 0.45007887 -0.45520451] 0.43  (elvart eredmeny: 1.00)\n",
      "6 [-0.7232066   0.52937545] 0.67  (elvart eredmeny: 1.00)\n",
      "7 [0.52408431 0.74905089] 0.16  (elvart eredmeny: 0.00)\n",
      "8 [-1.13124799 -0.64346812] 0.22  (elvart eredmeny: 0.00)\n",
      "9 [ 1.05619852 -1.16867333] 0.90  (elvart eredmeny: 1.00)\n",
      "10 [-1.64331284  0.32178486] 0.87  (elvart eredmeny: 1.00)\n",
      "11 [1.27592446 0.47490425] 0.30  (elvart eredmeny: 0.00)\n",
      "12 [-0.85234509 -1.67766207] 0.28  (elvart eredmeny: 0.00)\n",
      "13 [ 1.06439281 -0.01519469] 0.51  (elvart eredmeny: 1.00)\n",
      "14 [-1.49598073  1.1721386 ] 0.92  (elvart eredmeny: 1.00)\n",
      "15 [1.00867052 1.33834844] 0.15  (elvart eredmeny: 0.00)\n",
      "16 [-0.96073952 -0.75856217] 0.17  (elvart eredmeny: 0.00)\n",
      "17 [ 0.96820285 -0.62312564] 0.79  (elvart eredmeny: 1.00)\n",
      "18 [-1.27731201  1.01086655] 0.90  (elvart eredmeny: 1.00)\n",
      "19 [1.24921224 1.45125364] 0.13  (elvart eredmeny: 0.00)\n",
      "20 [-0.68034828 -1.39272014] 0.25  (elvart eredmeny: 0.00)\n",
      "21 [ 0.19203454 -0.69725794] 0.41  (elvart eredmeny: 1.00)\n",
      "22 [-1.35447081  1.3051462 ] 0.91  (elvart eredmeny: 1.00)\n",
      "23 [0.75811891 1.38066171] 0.23  (elvart eredmeny: 0.00)\n",
      "24 [ 0.04865448 -0.90985725] 0.45  (elvart eredmeny: 0.00)\n",
      "25 [ 0.83494361 -0.42420374] 0.65  (elvart eredmeny: 1.00)\n",
      "26 [-0.42625033  1.69214366] 0.83  (elvart eredmeny: 1.00)\n",
      "27 [0.9747302  0.63829576] 0.15  (elvart eredmeny: 0.00)\n",
      "28 [-0.89859695 -1.16324684] 0.16  (elvart eredmeny: 0.00)\n",
      "29 [ 0.99406789 -1.27367092] 0.90  (elvart eredmeny: 1.00)\n",
      "30 [-0.4986541   1.23885647] 0.81  (elvart eredmeny: 1.00)\n",
      "31 [0.94899899 0.93553572] 0.13  (elvart eredmeny: 0.00)\n",
      "32 [-0.98989922 -0.28933404] 0.32  (elvart eredmeny: 0.00)\n",
      "33 [ 1.4178541  -0.81594234] 0.88  (elvart eredmeny: 1.00)\n",
      "34 [-1.28515493  0.39272723] 0.82  (elvart eredmeny: 1.00)\n",
      "35 [1.01544978 0.6359506 ] 0.16  (elvart eredmeny: 0.00)\n",
      "36 [-0.68920096 -1.05628831] 0.18  (elvart eredmeny: 0.00)\n",
      "37 [ 1.23285696 -0.78808995] 0.87  (elvart eredmeny: 1.00)\n",
      "38 [-0.45570044 -0.08445807] 0.23  (elvart eredmeny: 1.00)\n",
      "39 [0.78528024 1.92471042] 0.49  (elvart eredmeny: 0.00)\n",
      "40 [-2.02150252 -0.50132607] 0.71  (elvart eredmeny: 0.00)\n",
      "41 [ 1.07375928 -0.30132133] 0.69  (elvart eredmeny: 1.00)\n",
      "42 [-0.97967981  1.46134931] 0.89  (elvart eredmeny: 1.00)\n",
      "43 [1.43104178 1.01282183] 0.16  (elvart eredmeny: 0.00)\n",
      "44 [-1.42261241 -0.46956705] 0.41  (elvart eredmeny: 0.00)\n",
      "45 [ 0.45148347 -0.9437387 ] 0.73  (elvart eredmeny: 1.00)\n",
      "46 [-0.47857327  1.4169799 ] 0.82  (elvart eredmeny: 1.00)\n",
      "47 [0.73120781 1.20702752] 0.19  (elvart eredmeny: 0.00)\n",
      "48 [-1.59189506 -1.0949691 ] 0.19  (elvart eredmeny: 0.00)\n",
      "49 [ 1.54374629 -0.27527979] 0.80  (elvart eredmeny: 1.00)\n",
      "50 [-0.6027629   0.85996166] 0.75  (elvart eredmeny: 1.00)\n",
      "51 [1.26573007 0.91350389] 0.14  (elvart eredmeny: 0.00)\n",
      "52 [-0.82681195 -0.8418245 ] 0.16  (elvart eredmeny: 0.00)\n",
      "53 [ 0.53999516 -0.55402011] 0.56  (elvart eredmeny: 1.00)\n",
      "54 [-1.38054512  1.27422799] 0.91  (elvart eredmeny: 1.00)\n",
      "55 [0.45722329 0.59802441] 0.16  (elvart eredmeny: 0.00)\n",
      "56 [-2.17252156 -0.95218351] 0.50  (elvart eredmeny: 0.00)\n",
      "57 [ 0.97142945 -0.50835919] 0.75  (elvart eredmeny: 1.00)\n",
      "58 [-0.31580073  0.25126539] 0.29  (elvart eredmeny: 1.00)\n",
      "59 [1.32725243 0.7145116 ] 0.21  (elvart eredmeny: 0.00)\n",
      "60 [-0.93427312 -0.92924414] 0.16  (elvart eredmeny: 0.00)\n",
      "61 [ 0.68579039 -1.28345398] 0.88  (elvart eredmeny: 1.00)\n",
      "62 [-0.7771762   1.29016349] 0.87  (elvart eredmeny: 1.00)\n",
      "63 [0.32342975 0.91520552] 0.25  (elvart eredmeny: 0.00)\n",
      "64 [-1.18335154 -0.38699305] 0.35  (elvart eredmeny: 0.00)\n",
      "65 [ 1.10755805 -0.20065101] 0.65  (elvart eredmeny: 1.00)\n",
      "66 [-1.5946805   1.39085526] 0.92  (elvart eredmeny: 1.00)\n",
      "67 [0.95956766 0.59662601] 0.16  (elvart eredmeny: 0.00)\n",
      "68 [-0.68326656 -0.17477146] 0.26  (elvart eredmeny: 0.00)\n",
      "69 [ 1.60443149 -0.51055056] 0.84  (elvart eredmeny: 1.00)\n",
      "70 [-1.345509    1.06387085] 0.91  (elvart eredmeny: 1.00)\n",
      "71 [1.0399581  1.48467107] 0.17  (elvart eredmeny: 0.00)\n",
      "72 [-0.97578159 -0.8746935 ] 0.16  (elvart eredmeny: 0.00)\n",
      "73 [ 0.59456082 -0.58012958] 0.61  (elvart eredmeny: 1.00)\n",
      "74 [-0.99838184  1.00794573] 0.87  (elvart eredmeny: 1.00)\n",
      "75 [0.67683025 0.94531504] 0.15  (elvart eredmeny: 0.00)\n",
      "76 [-1.38522558 -0.80909313] 0.23  (elvart eredmeny: 0.00)\n",
      "77 [ 0.61733912 -0.56602641] 0.62  (elvart eredmeny: 1.00)\n",
      "78 [-0.07583425  1.30576314] 0.67  (elvart eredmeny: 1.00)\n",
      "79 [0.38597268 0.76179308] 0.19  (elvart eredmeny: 0.00)\n",
      "80 [-1.62192946 -0.87559713] 0.28  (elvart eredmeny: 0.00)\n",
      "81 [ 0.0933582  -1.42405863] 0.76  (elvart eredmeny: 1.00)\n",
      "82 [-0.41178207  1.31268606] 0.80  (elvart eredmeny: 1.00)\n",
      "83 [0.20688708 0.72200264] 0.24  (elvart eredmeny: 0.00)\n",
      "84 [-0.6947673  -0.70454052] 0.17  (elvart eredmeny: 0.00)\n",
      "85 [ 0.15912428 -0.76434734] 0.43  (elvart eredmeny: 1.00)\n",
      "86 [-1.17388859  1.46510224] 0.90  (elvart eredmeny: 1.00)\n",
      "87 [0.79729717 1.08618224] 0.15  (elvart eredmeny: 0.00)\n",
      "88 [-0.95084721 -0.58087122] 0.20  (elvart eredmeny: 0.00)\n",
      "89 [ 0.54332732 -0.58005466] 0.58  (elvart eredmeny: 1.00)\n",
      "90 [-0.36137803  1.75261358] 0.82  (elvart eredmeny: 1.00)\n",
      "91 [1.59511841 0.68196924] 0.35  (elvart eredmeny: 0.00)\n",
      "92 [-0.64393552 -0.51719602] 0.18  (elvart eredmeny: 0.00)\n",
      "93 [ 1.15069897 -0.54158161] 0.81  (elvart eredmeny: 1.00)\n",
      "94 [-0.71245188  0.67784608] 0.73  (elvart eredmeny: 1.00)\n",
      "95 [0.97944428 1.30625314] 0.15  (elvart eredmeny: 0.00)\n",
      "96 [-0.6956089  -1.37664792] 0.24  (elvart eredmeny: 0.00)\n",
      "97 [ 0.49433522 -1.06646624] 0.79  (elvart eredmeny: 1.00)\n",
      "98 [-0.99364269  0.99498732] 0.87  (elvart eredmeny: 1.00)\n",
      "99 [0.44984778 1.28285523] 0.34  (elvart eredmeny: 0.00)\n"
     ]
    },
    {
     "data": {
      "image/png": "[encoded data removed]",
      "text/plain": [
       "<Figure size 432x288 with 1 Axes>"
      ]
     },
     "metadata": {
      "needs_background": "light"
     },
     "output_type": "display_data"
    }
   ],
   "source": [
    "network.reset()\n",
    "learn(network, X, Y, 0.2, 0.1,epochs=20,optimizer_regularizer='l2',hyperpm=0.0005)"
   ]
  },
  {
   "cell_type": "code",
   "execution_count": null,
   "metadata": {},
   "outputs": [],
   "source": []
  }
 ],
 "metadata": {
  "colab": {
   "collapsed_sections": [],
   "name": "XOR-Numpy-backprop.ipynb",
   "provenance": []
  },
  "kernelspec": {
   "display_name": "Python 3",
   "language": "python",
   "name": "python3"
  },
  "language_info": {
   "codemirror_mode": {
    "name": "ipython",
    "version": 3
   },
   "file_extension": ".py",
   "mimetype": "text/x-python",
   "name": "python",
   "nbconvert_exporter": "python",
   "pygments_lexer": "ipython3",
   "version": "3.8.5"
  }
 },
 "nbformat": 4,
 "nbformat_minor": 1
}
